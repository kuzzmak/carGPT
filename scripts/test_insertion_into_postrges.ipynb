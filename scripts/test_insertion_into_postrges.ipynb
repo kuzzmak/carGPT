{
 "cells": [
  {
   "cell_type": "code",
   "execution_count": 3,
   "metadata": {},
   "outputs": [],
   "source": [
    "data = {\n",
    "    'location': 'Grad Zagreb, Trešnjevka - Jug, Jarun',\n",
    "    'make': 'Mercedes-Benz',\n",
    "    'model': 'C-klasa',\n",
    "    'type': '220 D',\n",
    "    'chassis_number': 'W1K2060161F006816',\n",
    "    'manufacture_year': '2021. godište',\n",
    "    'model_year': '2018.',\n",
    "    'in_traffic_since': '2021.',\n",
    "    'mileage': '84000 km',\n",
    "    'engine': 'Diesel',\n",
    "    'power': '143 kW',\n",
    "    'displacement': '1.950 cm3',\n",
    "    'transmission': 'Automatski sekvencijski',\n",
    "    'fuel_consumption': '23.7 l/100km',\n",
    "    'average_CO2_emission': '131.1 g/km',\n",
    "    'eco_category': 'Euro 6',\n",
    "    'condition': 'rabljeno',\n",
    "    'owner': 'prvi',\n",
    "    'service_book': 'Da',\n",
    "}"
   ]
  },
  {
   "cell_type": "code",
   "execution_count": 13,
   "metadata": {},
   "outputs": [],
   "source": [
    "def transform_data(data):\n",
    "    transformations = {\n",
    "        \"manufacture_year\": lambda x: int(x.split(\".\")[0])\n",
    "        if \".\" in x\n",
    "        else int(x),\n",
    "        \"model_year\": lambda x: int(x.split(\".\")[0]) if \".\" in x else int(x),\n",
    "        \"mileage\": lambda x: int(x.split()[0].replace(\".\", \"\")),\n",
    "        \"power\": lambda x: int(x.split()[0]),\n",
    "        \"service_book\": lambda x: x.lower() == \"da\",\n",
    "        \"fuel_consumption\": lambda x: float(x.split()[0].replace(\",\", \".\")),\n",
    "        \"average_CO2_emission\": lambda x: float(\n",
    "            x.split()[0].replace(\",\", \".\")\n",
    "        ),\n",
    "        \"owner\": lambda x: int(x.split()[0]) if x.split()[0].isdigit() else x,\n",
    "        \"displacement\": lambda x: int(x.replace(\".\", \"\").replace(\" cm3\", \"\")),\n",
    "        \"in_traffic_since\": lambda x: int(x.split(\".\")[0])\n",
    "        if \".\" in x\n",
    "        else int(x),\n",
    "    }\n",
    "\n",
    "    transformed_data = {}\n",
    "    for key, value in data.items():\n",
    "        if key in transformations:\n",
    "            try:\n",
    "                transformed_data[key] = transformations[key](value)\n",
    "            except Exception as e:\n",
    "                print(f\"Error transforming {key}: {e}\")\n",
    "                transformed_data[key] = value  # fallback to original value\n",
    "        else:\n",
    "            transformed_data[key] = value  # no transformation needed\n",
    "\n",
    "    return transformed_data\n"
   ]
  },
  {
   "cell_type": "code",
   "execution_count": 18,
   "metadata": {},
   "outputs": [
    {
     "data": {
      "text/plain": [
       "{'location': 'Grad Zagreb, Trešnjevka - Jug, Jarun',\n",
       " 'make': 'Mercedes-Benz',\n",
       " 'model': 'C-klasa',\n",
       " 'type': '220 D',\n",
       " 'chassis_number': 'W1K2060161F006816',\n",
       " 'manufacture_year': 2021,\n",
       " 'model_year': 2018,\n",
       " 'in_traffic_since': 2021,\n",
       " 'mileage': 84000,\n",
       " 'engine': 'Diesel',\n",
       " 'power': 143,\n",
       " 'displacement': 1950,\n",
       " 'transmission': 'Automatski sekvencijski',\n",
       " 'fuel_consumption': 23.7,\n",
       " 'average_CO2_emission': 131.1,\n",
       " 'eco_category': 'Euro 6',\n",
       " 'condition': 'rabljeno',\n",
       " 'owner': 'prvi',\n",
       " 'service_book': True}"
      ]
     },
     "execution_count": 18,
     "metadata": {},
     "output_type": "execute_result"
    }
   ],
   "source": [
    "transform_data(data)"
   ]
  },
  {
   "cell_type": "code",
   "execution_count": 27,
   "metadata": {},
   "outputs": [],
   "source": [
    "import psycopg2\n",
    "from datetime import datetime"
   ]
  },
  {
   "cell_type": "code",
   "execution_count": 29,
   "metadata": {},
   "outputs": [
    {
     "name": "stdout",
     "output_type": "stream",
     "text": [
      "{'location': 'Grad Zagreb, Trešnjevka - Jug, Jarun', 'make': 'Mercedes-Benz', 'model': 'C-klasa', 'type': '220 D', 'chassis_number': 'W1K2060161F006816', 'manufacture_year': 2021, 'model_year': 2018, 'in_traffic_since': 2021, 'mileage': 84000, 'engine': 'Diesel', 'power': 143, 'displacement': 1950, 'transmission': 'Automatski sekvencijski', 'fuel_consumption': 23.7, 'average_CO2_emission': 131.1, 'eco_category': 'Euro 6', 'condition': 'rabljeno', 'owner': 'prvi', 'service_book': True}\n"
     ]
    }
   ],
   "source": [
    "conn = psycopg2.connect(\n",
    "    dbname=\"ads_db\",  # Default database\n",
    "    user=\"adsuser\",\n",
    "    password=\"pass\",\n",
    "    host=\"localhost\",  # or your server IP\n",
    "    port=\"5432\",  # Default PostgreSQL port\n",
    ")\n",
    "cursor = conn.cursor()\n",
    "\n",
    "transformed_data = transform_data(data)\n",
    "print(transformed_data)\n",
    "\n",
    "now = datetime.now().isoformat()\n",
    "transformed_data[\"date_created\"] = now\n",
    "\n",
    "columns = \", \".join(transformed_data.keys())\n",
    "values = \", \".join([f\"%({key})s\" for key in transformed_data.keys()])\n",
    "\n",
    "# Define the SQL query to insert the data\n",
    "insert_query = f\"\"\"\n",
    "INSERT INTO ads ({columns})\n",
    "VALUES ({values});\n",
    "\"\"\"\n",
    "\n",
    "cursor.execute(insert_query, transformed_data)\n",
    "conn.commit()\n",
    "\n",
    "cursor.close()\n",
    "conn.close()\n"
   ]
  },
  {
   "cell_type": "code",
   "execution_count": null,
   "metadata": {},
   "outputs": [],
   "source": []
  }
 ],
 "metadata": {
  "kernelspec": {
   "display_name": "cargpt-bAR7GXWd-py3.10",
   "language": "python",
   "name": "python3"
  },
  "language_info": {
   "codemirror_mode": {
    "name": "ipython",
    "version": 3
   },
   "file_extension": ".py",
   "mimetype": "text/x-python",
   "name": "python",
   "nbconvert_exporter": "python",
   "pygments_lexer": "ipython3",
   "version": "3.10.9"
  }
 },
 "nbformat": 4,
 "nbformat_minor": 2
}
