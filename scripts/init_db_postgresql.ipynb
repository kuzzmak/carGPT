{
 "cells": [
  {
   "cell_type": "code",
   "execution_count": 1,
   "metadata": {},
   "outputs": [],
   "source": [
    "import psycopg2\n",
    "from psycopg2 import sql"
   ]
  },
  {
   "cell_type": "code",
   "execution_count": 3,
   "metadata": {},
   "outputs": [
    {
     "name": "stdout",
     "output_type": "stream",
     "text": [
      "Connected to PostgreSQL!\n",
      "Table 'ads' created successfully!\n",
      "Connection closed.\n"
     ]
    }
   ],
   "source": [
    "try:\n",
    "    conn = psycopg2.connect(\n",
    "        dbname=\"ads_db\",  # Default database\n",
    "        user=\"adsuser\",\n",
    "        password=\"pass\",\n",
    "        host=\"localhost\",  # or your server IP\n",
    "        port=\"5432\",  # Default PostgreSQL port\n",
    "    )\n",
    "    conn.autocommit = True  # Allow database creation outside transactions\n",
    "    cursor = conn.cursor()\n",
    "    print(\"Connected to PostgreSQL!\")\n",
    "\n",
    "    # Define the SQL query to create a new table\n",
    "    create_table_query = \"\"\"\n",
    "    CREATE TABLE ads (\n",
    "        id SERIAL PRIMARY KEY,\n",
    "        insertion_time TIMESTAMP DEFAULT CURRENT_TIMESTAMP,\n",
    "        date_created TIMESTAMP NOT NULL,\n",
    "        price NUMERIC(10, 2),\n",
    "        location VARCHAR(100),\n",
    "        make VARCHAR(30),\n",
    "        model VARCHAR(50),\n",
    "        type VARCHAR(100),\n",
    "        chassis_number VARCHAR(17),\n",
    "        manufacture_year INT,\n",
    "        model_year INT,\n",
    "        mileage INT,\n",
    "        engine VARCHAR(20),\n",
    "        power INT,\n",
    "        displacement INT,\n",
    "        transmission VARCHAR(30),\n",
    "        condition VARCHAR(20),\n",
    "        owner VARCHAR(20),\n",
    "        service_book BOOLEAN,\n",
    "        garaged BOOLEAN,\n",
    "        in_traffic_since INT,\n",
    "        first_registration_in_croatia INT,\n",
    "        registered_until VARCHAR(20),\n",
    "        fuel_consumption VARCHAR(20),\n",
    "        eco_category VARCHAR(20),\n",
    "        number_of_gears VARCHAR(20),\n",
    "        warranty VARCHAR(20),\n",
    "        average_CO2_emission VARCHAR(20),\n",
    "        video_call_viewing BOOLEAN,\n",
    "        gas BOOLEAN,\n",
    "        auto_warranty VARCHAR(20),\n",
    "        number_of_doors INT,\n",
    "        chassis_type VARCHAR(20),\n",
    "        number_of_seats INT,\n",
    "        drive_type VARCHAR(20),\n",
    "        color VARCHAR(20),\n",
    "        metalic_color BOOLEAN,\n",
    "        suspension VARCHAR(20),\n",
    "        tire_size VARCHAR(20)\n",
    "    );\n",
    "    \"\"\"\n",
    "\n",
    "    # Execute the query\n",
    "    cursor.execute(create_table_query)\n",
    "    print(\"Table 'ads' created successfully!\")\n",
    "except psycopg2.Error as e:\n",
    "    print(f\"Error creating database: {e}\")\n",
    "finally:\n",
    "    if cursor:\n",
    "        cursor.close()\n",
    "    if conn:\n",
    "        conn.close()\n",
    "    print(\"Connection closed.\")"
   ]
  },
  {
   "cell_type": "code",
   "execution_count": null,
   "metadata": {},
   "outputs": [],
   "source": []
  }
 ],
 "metadata": {
  "kernelspec": {
   "display_name": "cargpt-bAR7GXWd-py3.10",
   "language": "python",
   "name": "python3"
  },
  "language_info": {
   "codemirror_mode": {
    "name": "ipython",
    "version": 3
   },
   "file_extension": ".py",
   "mimetype": "text/x-python",
   "name": "python",
   "nbconvert_exporter": "python",
   "pygments_lexer": "ipython3",
   "version": "3.10.9"
  }
 },
 "nbformat": 4,
 "nbformat_minor": 2
}
