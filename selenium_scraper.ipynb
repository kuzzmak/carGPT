{
 "cells": [
  {
   "cell_type": "code",
   "execution_count": 11,
   "metadata": {},
   "outputs": [],
   "source": [
    "from datetime import datetime\n",
    "import logging\n",
    "import random\n",
    "import sqlite3\n",
    "import time\n",
    "from typing import Tuple\n",
    "\n",
    "from selenium import webdriver\n",
    "from selenium.webdriver.common.by import By\n",
    "from selenium.webdriver.remote.webelement import WebElement\n",
    "from selenium.webdriver.remote.webdriver import WebDriver\n",
    "\n",
    "from carGPT.scraper.scraper.translations import TRANSLATIONS"
   ]
  },
  {
   "cell_type": "code",
   "execution_count": 4,
   "metadata": {},
   "outputs": [],
   "source": [
    "logging.basicConfig(\n",
    "    level=logging.INFO, format=\"%(asctime)s - %(levelname)s - %(message)s\"\n",
    ")\n",
    "logger = logging.getLogger(__name__)"
   ]
  },
  {
   "cell_type": "code",
   "execution_count": 5,
   "metadata": {},
   "outputs": [],
   "source": [
    "class ChromeDriveConnection:\n",
    "    def __enter__(self):\n",
    "        self.driver = webdriver.Chrome()\n",
    "        return self.driver\n",
    "\n",
    "    def __exit__(self, exc_type, exc_val, exc_tb):\n",
    "        self.driver.quit()"
   ]
  },
  {
   "cell_type": "code",
   "execution_count": 6,
   "metadata": {},
   "outputs": [],
   "source": [
    "class DatabaseConnection:\n",
    "    def __enter__(self):\n",
    "        self.connection = sqlite3.connect(\"ads.db\")\n",
    "        return self.connection\n",
    "\n",
    "    def __exit__(self, exc_type, exc_val, exc_tb):\n",
    "        self.connection.close()\n"
   ]
  },
  {
   "cell_type": "code",
   "execution_count": null,
   "metadata": {},
   "outputs": [],
   "source": [
    "class NjuskaloScraper:\n",
    "    page_template = \"https://www.njuskalo.hr/auti?page={page_num}\"\n",
    "\n",
    "    def __init__(self):\n",
    "        self.page_num = 1\n",
    "\n",
    "    def get_ads(self, driver: WebDriver):\n",
    "        ads = (\n",
    "            driver.find_element(\n",
    "                By.CSS_SELECTOR, \".EntityList--ListItemRegularAd\"\n",
    "            )\n",
    "            .find_element(By.CLASS_NAME, \"EntityList-items\")\n",
    "            .find_elements(By.CLASS_NAME, \"EntityList-item\")\n",
    "        )\n",
    "        logger.info(f\"Found {len(ads)} ads on the page\")\n",
    "        return ads\n",
    "\n",
    "    @staticmethod\n",
    "    def get_ad_columns(\n",
    "        driver: WebDriver,\n",
    "    ) -> Tuple[list[WebElement], list[WebElement]]:\n",
    "        ad_info = driver.find_element(\n",
    "            By.CLASS_NAME, \"ClassifiedDetailBasicDetails-list\"\n",
    "        )\n",
    "        ad_left_column = ad_info.find_elements(\n",
    "            By.CLASS_NAME, \"ClassifiedDetailBasicDetails-listTerm\"\n",
    "        )\n",
    "        ad_right_column = ad_info.find_elements(\n",
    "            By.CLASS_NAME, \"ClassifiedDetailBasicDetails-listDefinition\"\n",
    "        )\n",
    "        return ad_left_column, ad_right_column\n",
    "\n",
    "    @staticmethod\n",
    "    def get_ad_details(\n",
    "        left_column: list[WebElement], right_column: list[WebElement]\n",
    "    ) -> dict[str, str]:\n",
    "        ad_details = {}\n",
    "        for prop_name, prop_value in zip(left_column, right_column):\n",
    "            prop_name = prop_name.find_element(\n",
    "                By.CLASS_NAME, \"ClassifiedDetailBasicDetails-textWrapContainer\"\n",
    "            ).text\n",
    "            prop_value = prop_value.find_element(\n",
    "                By.CLASS_NAME, \"ClassifiedDetailBasicDetails-textWrapContainer\"\n",
    "            ).text\n",
    "            try:\n",
    "                ad_details[TRANSLATIONS[prop_name]] = prop_value\n",
    "            except KeyError:\n",
    "                logger.error(f\"No key for: {prop_name} - value: {prop_value}\")\n",
    "\n",
    "        return ad_details\n",
    "\n",
    "    def extract_article_info(self, driver: WebDriver) -> dict[str, str]:\n",
    "        left_column, right_column = self.get_ad_columns(driver)\n",
    "        ad_details = self.get_ad_details(left_column, right_column)\n",
    "        published_elem = driver.find_element(\n",
    "            By.CLASS_NAME, \"ClassifiedDetailSystemDetails-listData\"\n",
    "        )\n",
    "        date_time_format = \"%d.%m.%Y. u %H:%M\"\n",
    "        date_time_obj = datetime.strptime(published_elem.text, date_time_format)\n",
    "        \n",
    "        return ad_details\n",
    "\n",
    "    @staticmethod\n",
    "    def get_ad_links(page_ads: list[WebElement]) -> list[str]:\n",
    "        ad_links = []\n",
    "        for ad in page_ads:\n",
    "            try:\n",
    "                ad_class = ad.get_attribute(\"class\")\n",
    "                if \"EntityList-bannerContainer\" in ad_class:\n",
    "                    logger.info(\"Skipping something that is not an add\")\n",
    "                    continue\n",
    "                article = ad.find_element(By.TAG_NAME, \"article\")\n",
    "                article_title = article.find_element(\n",
    "                    By.CLASS_NAME, \"entity-title\"\n",
    "                )\n",
    "                article_link = article_title.find_element(By.TAG_NAME, \"a\")\n",
    "                article_link_url = article_link.get_attribute(\"href\")\n",
    "                ad_links.append(article_link_url)\n",
    "            except Exception as e:\n",
    "                logger.error(f\"Error happened: {e}\")\n",
    "            break\n",
    "        return ad_links\n",
    "\n",
    "    def save_article(self, article_info: dict[str, str]) -> None:\n",
    "        with DatabaseConnection() as db_conn:\n",
    "            cursor = db_conn.cursor()\n",
    "            columns = \", \".join(article_info.keys())\n",
    "            values = \", \".join([f'\"{val}\"' for val in article_info.values()])\n",
    "            insert_str = f\"INSERT INTO ads ({columns}) VALUES ({values})\"\n",
    "            logger.info(f\"Insert into DB string:\\n\\t{insert_str}\")\n",
    "            cursor.execute(insert_str)\n",
    "            db_conn.commit()\n",
    "\n",
    "    def handle_link(self, link: str, driver: WebDriver) -> None:\n",
    "        driver.get(link)\n",
    "        logger.info(f\"Went to page {link}\")\n",
    "        article_info = self.extract_article_info(driver)\n",
    "        self.save_article(article_info)\n",
    "        sleep_time = random.randint(1, 10)\n",
    "        logger.info(f\"Sleeping for {sleep_time}s\")\n",
    "        time.sleep(sleep_time)\n",
    "\n",
    "    def handle_page(self, driver: WebDriver) -> None:\n",
    "        page_ads = self.get_ads(driver)\n",
    "        ad_links = self.get_ad_links(page_ads)\n",
    "        for link in ad_links:\n",
    "            self.handle_link(link, driver)\n",
    "\n",
    "    def start(self) -> None:\n",
    "        with ChromeDriveConnection() as driver:\n",
    "            driver.get(self.page_template.format(page_num=self.page_num))\n",
    "            self.handle_page(driver)"
   ]
  },
  {
   "cell_type": "code",
   "execution_count": 9,
   "metadata": {},
   "outputs": [
    {
     "name": "stderr",
     "output_type": "stream",
     "text": [
      "2024-12-09 22:23:43,944 - INFO - Found 33 ads on the page\n",
      "2024-12-09 22:23:45,385 - INFO - Went to page https://www.njuskalo.hr/auti/renault-clio-1.2-oglas-45432191\n",
      "2024-12-09 22:23:46,217 - INFO - Insert into DB string:\n",
      "\tINSERT INTO ads (location, make, model, type, manufacture_year, model_year, registered_until, mileage, engine, power, displacement, transmission, number_of_gears, condition) VALUES (\"Istarska, Kršan, Kršan\", \"Renault\", \"Clio\", \"1,2\", \"2010. godište\", \"2009.\", \"10 / 2025\", \"155515 km\", \"Benzin\", \"43 kW\", \"1.149 cm3\", \"Mehanički mjenjač\", \"5 stupnjeva\", \"rabljeno\")\n",
      "2024-12-09 22:23:46,229 - INFO - Sleeping for 3s\n"
     ]
    },
    {
     "name": "stdout",
     "output_type": "stream",
     "text": [
      "09.12.2024. u 22:23\n"
     ]
    }
   ],
   "source": [
    "njws = NjuskaloScraper()\n",
    "njws.start()"
   ]
  },
  {
   "cell_type": "code",
   "execution_count": null,
   "metadata": {},
   "outputs": [],
   "source": []
  },
  {
   "cell_type": "code",
   "execution_count": null,
   "metadata": {},
   "outputs": [],
   "source": []
  }
 ],
 "metadata": {
  "kernelspec": {
   "display_name": "cargpt-b_f3TrY_-py3.13",
   "language": "python",
   "name": "python3"
  },
  "language_info": {
   "codemirror_mode": {
    "name": "ipython",
    "version": 3
   },
   "file_extension": ".py",
   "mimetype": "text/x-python",
   "name": "python",
   "nbconvert_exporter": "python",
   "pygments_lexer": "ipython3",
   "version": "3.13.1"
  }
 },
 "nbformat": 4,
 "nbformat_minor": 2
}
